{
 "cells": [
  {
   "cell_type": "code",
   "execution_count": 1,
   "metadata": {},
   "outputs": [],
   "source": [
    "import numpy as np\n",
    "import pandas as pd\n",
    "import csv\n",
    "\n",
    "\n"
   ]
  },
  {
   "cell_type": "code",
   "execution_count": 2,
   "metadata": {},
   "outputs": [],
   "source": []
  },
  {
   "cell_type": "code",
   "execution_count": null,
   "metadata": {},
   "outputs": [],
   "source": []
  },
  {
   "cell_type": "code",
   "execution_count": 12,
   "metadata": {},
   "outputs": [
    {
     "name": "stdout",
     "output_type": "stream",
     "text": [
      "[[0 1 0 0 0 0 0 0]\n",
      " [1 0 1 0 0 0 0 0]\n",
      " [0 1 0 1 0 0 0 0]\n",
      " [0 0 1 0 1 0 0 0]\n",
      " [0 0 0 1 0 1 1 0]\n",
      " [0 0 0 0 1 0 0 0]\n",
      " [0 0 0 0 1 0 0 1]\n",
      " [0 0 0 0 0 0 1 0]]\n"
     ]
    }
   ],
   "source": [
    "sim_qc_speed = [node_36, node_37, node_38, node_39, node_40, node_41, node_42, node_43]\n",
    "sim_qc_subadj = np.array([[0, 1, 0, 0, 0, 0, 0, 0], # 36\n",
    "                          [1, 0, 1, 0, 0, 0, 0, 0], # 37\n",
    "                          [0, 1, 0, 1, 0, 0, 0, 0], # 38\n",
    "                          [0, 0, 1, 0, 1, 0, 0, 0], # 39\n",
    "                          [0, 0, 0, 1, 0, 1, 1, 0], # 40\n",
    "                          [0, 0, 0, 0, 1, 0, 0, 0], # 41\n",
    "                          [0, 0, 0, 0, 1, 0, 0, 1], # 42\n",
    "                          [0, 0, 0, 0, 0, 0, 1, 0]]) # 43\n",
    "\n",
    "print(sim_qc_subadj)"
   ]
  },
  {
   "cell_type": "code",
   "execution_count": 14,
   "metadata": {},
   "outputs": [],
   "source": [
    "# with open('sim_qc_speed.csv', 'w', newline='') as csvfile:\n",
    "#     csv_writer = csv.writer(csvfile)\n",
    "#     for row in sim_qc_speed:\n",
    "#         csv_writer.writerow(row)\n",
    "\n",
    "# with open('sim_qc_adj.csv', 'w', newline='') as csvfile:\n",
    "#     csv_writer = csv.writer(csvfile)\n",
    "#     for row in sim_qc_subadj:\n",
    "#         csv_writer.writerow(row)\n",
    "\n",
    "np.save(r'C:\\FILES\\thesis-vsc-files\\data\\simulated-qc\\simulated-road\\sim_qc_speed.npy',sim_qc_speed)\n",
    "np.save(r'C:\\FILES\\thesis-vsc-files\\data\\simulated-qc\\simulated-road\\sim_qc_adj.npy',sim_qc_subadj)"
   ]
  }
 ],
 "metadata": {
  "kernelspec": {
   "display_name": "venv",
   "language": "python",
   "name": "python3"
  },
  "language_info": {
   "codemirror_mode": {
    "name": "ipython",
    "version": 3
   },
   "file_extension": ".py",
   "mimetype": "text/x-python",
   "name": "python",
   "nbconvert_exporter": "python",
   "pygments_lexer": "ipython3",
   "version": "3.12.2"
  }
 },
 "nbformat": 4,
 "nbformat_minor": 2
}
